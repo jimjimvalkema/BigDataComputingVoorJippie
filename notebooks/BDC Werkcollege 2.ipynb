{
 "cells": [
  {
   "cell_type": "code",
   "execution_count": 1,
   "metadata": {
    "pycharm": {
     "is_executing": false
    }
   },
   "outputs": [],
   "source": [
    "import multiprocessing as mp"
   ]
  },
  {
   "cell_type": "markdown",
   "metadata": {
    "slideshow": {
     "slide_type": "slide"
    }
   },
   "source": [
    "# Hoeveel processen te starten?\n",
    "Een goede maat is maximaal zo veel processen te starten als je CPU's hebt\n",
    "* _Tenzij_ je vooral met Input/Output bezig bent (helemaal als het om netwerkverkeer gaat)\n",
    "* He precieze gedrag is ook afhankelijk van de processorarchitectuur; experimenteren loont\n",
    "* Een realistische harde bovengrens voor berekeningen is 2 x aantal cores\n",
    "Je kunt makkelijk het aantal CPU's bepalen in multiprocessing"
   ]
  },
  {
   "cell_type": "code",
   "execution_count": 2,
   "metadata": {
    "slideshow": {
     "slide_type": "slide"
    },
    "pycharm": {
     "is_executing": false
    }
   },
   "outputs": [],
   "source": [
    "cpus = mp.cpu_count()"
   ]
  },
  {
   "cell_type": "markdown",
   "metadata": {
    "slideshow": {
     "slide_type": "slide"
    }
   },
   "source": [
    "# Een gemakkelijke methode om ff wat taken te verdelen\n",
    "## De multiprocessing.Pool class\n",
    "* Zet een buffer aan werker-processen op, en vervolgens kun je met de functionele constructen apply(), map(), starmap() etc data automatisch verdelen \n",
    "* Dit lijkt al behoorlijk op een gebruikersvriendelijke library zoals Spark of Dask!\n",
    "* Wij gaan in eerste instantie dit niet toepassen om beter de achterliggende processen te leren.\n",
    "* Geeft ook minder controle over de communicatie en datastructuren."
   ]
  },
  {
   "cell_type": "code",
   "execution_count": 3,
   "metadata": {
    "slideshow": {
     "slide_type": "slide"
    },
    "pycharm": {
     "is_executing": false
    }
   },
   "outputs": [
    {
     "name": "stdout",
     "text": [
      "No, 1 is not prime!\n",
      "Yes, 2 is prime!\n",
      "[False, True, True, False, True, False, True, False, False, False, True, False, True, False, False, False, True, False, True, False, False, False, True, False, False, False, False, False, True, False, True, False, False, False, False, False, True, False, False, False, True, False, True, False, False, False, True, False]\n"
     ],
     "output_type": "stream"
    }
   ],
   "source": [
    "def echo(x):\n",
    "    print(x, \"gekregen!\")\n",
    "    return x\n",
    "\n",
    "def prime(x):\n",
    "    #print(\"working on:\",x)\n",
    "    if x <= 0:\n",
    "        print(\"Primality is undefined for 0 or less\")\n",
    "        return False\n",
    "    if x == 1:\n",
    "        print(\"No, 1 is not prime!\")\n",
    "        return False\n",
    "    if x == 2:\n",
    "        print(\"Yes, 2 is prime!\")\n",
    "        return True\n",
    "    for i in range(2, x-1):                 # Dit kan ook (x // 2)+1\n",
    "        if x % i == 0:\n",
    "            #print(x, \"is not prime!\")\n",
    "            return False\n",
    "        \n",
    "    #print(x, \"is prime!\")\n",
    "    return True\n",
    "\n",
    "if __name__ == \"__main__\":\n",
    "    cpus = mp.cpu_count()\n",
    "    with mp.Pool(cpus) as pool:\n",
    "        results = pool.map(prime, range(1,49))\n",
    "\n",
    "    print(results)\n",
    "    "
   ]
  },
  {
   "cell_type": "markdown",
   "metadata": {
    "slideshow": {
     "slide_type": "slide"
    }
   },
   "source": [
    "# Communicatie mbv pipes\n",
    "## Een subclass van queue die alleen toegangkelijk is voor 2 processen\n",
    "* Soms wil je zeker weten dat data van het een gespecificeerd proces naar een ander gaat\n",
    "* Queue's zijn een free-for-all; iedereen met de referentie mag er in kijken!\n",
    "* \"Pipes\" zijn bidirectionele communicatiekanalen tussen twee processen\n",
    "* De \"semantiek\" (m.a.w. de \"taal\" die je spreekt om het te bedienen) is hetzelfde als queue:\n",
    "    * put() om data erin te stoppen (of put_nowait() )\n",
    "    * get() om data erin te stoppen (of get_nowait() )"
   ]
  },
  {
   "cell_type": "code",
   "execution_count": 4,
   "metadata": {
    "slideshow": {
     "slide_type": "slide"
    },
    "pycharm": {
     "is_executing": false
    }
   },
   "outputs": [
    {
     "traceback": [
      "\u001b[0;31m---------------------------------------------------------------------------\u001b[0m",
      "\u001b[0;31mAttributeError\u001b[0m                            Traceback (most recent call last)",
      "\u001b[0;32m<ipython-input-4-c9b871b3448c>\u001b[0m in \u001b[0;36m<module>\u001b[0;34m\u001b[0m\n\u001b[1;32m     21\u001b[0m \u001b[0;32mfor\u001b[0m \u001b[0mp\u001b[0m \u001b[0;32min\u001b[0m \u001b[0mprocesses\u001b[0m\u001b[0;34m:\u001b[0m\u001b[0;34m\u001b[0m\u001b[0;34m\u001b[0m\u001b[0m\n\u001b[1;32m     22\u001b[0m     \u001b[0mpipeP\u001b[0m \u001b[0;34m=\u001b[0m \u001b[0mprocesses\u001b[0m\u001b[0;34m[\u001b[0m\u001b[0mp\u001b[0m\u001b[0;34m]\u001b[0m\u001b[0;34m[\u001b[0m\u001b[0;34m'pipe'\u001b[0m\u001b[0;34m]\u001b[0m\u001b[0;34m\u001b[0m\u001b[0;34m\u001b[0m\u001b[0m\n\u001b[0;32m---> 23\u001b[0;31m     \u001b[0mprint\u001b[0m\u001b[0;34m(\u001b[0m\u001b[0mpipeP\u001b[0m\u001b[0;34m[\u001b[0m\u001b[0;36m1\u001b[0m\u001b[0;34m]\u001b[0m\u001b[0;34m.\u001b[0m\u001b[0mget\u001b[0m\u001b[0;34m(\u001b[0m\u001b[0;34m)\u001b[0m\u001b[0;34m)\u001b[0m\u001b[0;34m\u001b[0m\u001b[0;34m\u001b[0m\u001b[0m\n\u001b[0m\u001b[1;32m     24\u001b[0m \u001b[0;34m\u001b[0m\u001b[0m\n",
      "\u001b[0;31mAttributeError\u001b[0m: 'Connection' object has no attribute 'get'"
     ],
     "ename": "AttributeError",
     "evalue": "'Connection' object has no attribute 'get'",
     "output_type": "error"
    }
   ],
   "source": [
    "    from time import sleep\n",
    "    from random import randint\n",
    "\n",
    "    def todo(p, pipe):\n",
    "        sleeptime = randint(1,5)\n",
    "        sleep(sleeptime)\n",
    "        outputQ.put(\"hoi! van process %s heeft %s sec geslapen\" % (p , sleeptime))\n",
    "\n",
    "    processes = {}\n",
    "    outputQ = mp.Queue()\n",
    "\n",
    "    for p in range(5):\n",
    "        pipeP = mp.Pipe()\n",
    "        temP = mp.Process(target=todo, args=(p,outputQ))\n",
    "        processes[p] = {'process' : temP, 'pipe' : pipeP}\n",
    "        temP.start()\n",
    "\n",
    "    for p in processes:\n",
    "        processes[p]['process'].join()\n",
    "\n",
    "    for p in processes:\n",
    "        pipeP = processes[p]['pipe']\n",
    "        print(pipeP[1].get())"
   ]
  },
  {
   "cell_type": "code",
   "execution_count": null,
   "metadata": {
    "pycharm": {
     "is_executing": false
    }
   },
   "outputs": [],
   "source": [
    "fp = open(\"bla\", \"r\")\n",
    "fp.readlines()\n",
    "\n",
    "fp.read(8)\n",
    "fp.seek(byte_offset)\n"
   ]
  }
 ],
 "metadata": {
  "celltoolbar": "Slideshow",
  "kernelspec": {
   "display_name": "Python 3",
   "language": "python",
   "name": "python3"
  },
  "language_info": {
   "codemirror_mode": {
    "name": "ipython",
    "version": 3
   },
   "file_extension": ".py",
   "mimetype": "text/x-python",
   "name": "python",
   "nbconvert_exporter": "python",
   "pygments_lexer": "ipython3",
   "version": "3.7.6"
  }
 },
 "nbformat": 4,
 "nbformat_minor": 4
}