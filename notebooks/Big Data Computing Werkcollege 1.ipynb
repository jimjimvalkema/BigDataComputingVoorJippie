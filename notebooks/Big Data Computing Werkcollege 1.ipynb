{
 "cells": [
  {
   "cell_type": "code",
   "execution_count": null,
   "metadata": {
    "slideshow": {
     "slide_type": "slide"
    }
   },
   "outputs": [],
   "source": [
    "# Big Data Computing\n",
    "## Specialisatie Minor Advanced Datamining & High Performance Computing\n",
    "### Martijn Herber 2020"
   ]
  },
  {
   "cell_type": "markdown",
   "metadata": {
    "slideshow": {
     "slide_type": "slide"
    }
   },
   "source": [
    "# Introductie\n",
    "* Dit vak leert je grote datasets verdelen over meerdere CPU's, computers en GPU's\n",
    "* Het draait er vooral om programmeren in python en het begrijpen van datasets\n",
    "* Het is een praktisch vak met praktijkopdrachten\n",
    "* Als je alle opdrachten hebt gemaakt en deze voldoen aan de eisen, heb je het vak gehaald.\n",
    "* Er is een competitie-element toegevoegd: wie de snelste oplossingen schrijft, wint een prijs"
   ]
  },
  {
   "cell_type": "markdown",
   "metadata": {
    "slideshow": {
     "slide_type": "slide"
    }
   },
   "source": [
    "## 3 paradigma's\n",
    "* Duur woord voor \"aanpak\" :-)\n",
    "* Hoeveel werk wil je zelf doen?\n",
    "* \"Manual\" -> zelf alle data opsplitsen en verdelen\n",
    "* \"Library\" -> de data wordt volgens een bepaald stramien voor je opgedeeld\n",
    "* \"GPU\" -> er is niet zoveel wat je kunt berekenen, maar wat wel kan kan niet sneller\n"
   ]
  },
  {
   "cell_type": "markdown",
   "metadata": {
    "slideshow": {
     "slide_type": "slide"
    }
   },
   "source": [
    "## Parallel processing, Distributed computing\n",
    "* Moderne processoren (4-8 cores in een PC)\n",
    "=> Parallel computing\n",
    "* Meerdere computers op een netwerk\n",
    "=> Parallel computing\n",
    "* Duizenden computers verspreid in datacentra\n",
    "=> Distributed processing"
   ]
  },
  {
   "cell_type": "markdown",
   "metadata": {
    "slideshow": {
     "slide_type": "slide"
    }
   },
   "source": [
    "## Process-based distributed computing\n",
    "* Processen de vorm waarin een OS programma's onafhankelijk draait\n",
    "* Geen toegang tot elkaars geheugenruimte!\n",
    "* Vanwege technische limitaties in Python is alleen process-based parallelisatie mogelijk\n",
    "(Global Interpreeter Lock)"
   ]
  },
  {
   "cell_type": "code",
   "execution_count": 11,
   "metadata": {
    "slideshow": {
     "slide_type": "slide"
    }
   },
   "outputs": [
    {
     "name": "stdout",
     "output_type": "stream",
     "text": [
      "hoi! van process 1 lekker 1 seconden geslapen.\n",
      "hoi! van process 2 lekker 3 seconden geslapen.\n",
      "hoi! van process 3 lekker 3 seconden geslapen.\n",
      "hoi! van process 0 lekker 4 seconden geslapen.\n",
      "hoi! van process 4 lekker 4 seconden geslapen.\n"
     ]
    }
   ],
   "source": [
    "import multiprocessing as mp\n",
    "from time import sleep\n",
    "from random import randint\n",
    "\n",
    "def todo(p):\n",
    "    sleeptime = randint(1,5)\n",
    "    sleep(sleeptime)\n",
    "    print(\"hoi! van process\",p , \"lekker\", sleeptime, \"seconden geslapen.\")\n",
    "\n",
    "processes = []\n",
    "\n",
    "for p in range(5):\n",
    "    temP = mp.Process(target=todo, args=(p,))\n",
    "    processes.append(temP)\n",
    "    temP.start()\n",
    "  # <-  \n",
    "\n",
    "for p in processes:\n",
    "    p.join()    \n",
    "    \n",
    "# <- alles is klaar!\n"
   ]
  },
  {
   "cell_type": "code",
   "execution_count": 12,
   "metadata": {
    "scrolled": true,
    "slideshow": {
     "slide_type": "slide"
    }
   },
   "outputs": [
    {
     "name": "stdout",
     "output_type": "stream",
     "text": [
      "hoi! van process 1 heeft 2 sec geslapen\n",
      "hoi! van process 2 heeft 2 sec geslapen\n",
      "hoi! van process 3 heeft 2 sec geslapen\n",
      "hoi! van process 0 heeft 5 sec geslapen\n",
      "hoi! van process 4 heeft 5 sec geslapen\n"
     ]
    }
   ],
   "source": [
    "import multiprocessing as mp\n",
    "from time import sleep\n",
    "from random import randint\n",
    "\n",
    "def todo(p, outputQ):\n",
    "    sleeptime = randint(1,5)\n",
    "    sleep(sleeptime)\n",
    "    outputQ.put(\"hoi! van process %s heeft %s sec geslapen\" % (p , sleeptime))\n",
    "\n",
    "processes = []\n",
    "outputQ = mp.Queue()\n",
    "\n",
    "for p in range(5):\n",
    "    temP = mp.Process(target=todo, args=(p,outputQ))\n",
    "    processes.append(temP)\n",
    "    temP.start()\n",
    "\n",
    "for p in processes:\n",
    "    p.join()\n",
    "    \n",
    "while not outputQ.empty():\n",
    "    msg = outputQ.get()\n",
    "    print(msg)"
   ]
  },
  {
   "cell_type": "markdown",
   "metadata": {
    "slideshow": {
     "slide_type": "slide"
    }
   },
   "source": [
    "## De Opdracht\n",
    "### FastQ file verwerken\n",
    "### \"Embarassingly parallel\" -> miljoenen dezelfde stukjes data\n",
    "### Quality string is de 4e regel in een fastq bestand\n",
    "### Geeft per base een kans weer dat de base klopt\n",
    "\n",
    "Phred Quality Score:\n",
    "\\begin{equation}\n",
    "Q = -10 log_{10} P\n",
    "\\end{equation}\n",
    "\n",
    "Elke letter in regel 4 is een code voor getalwaarde van de phred score Q!\n",
    "Deze is van ASCII om te zetten in een getal met de standaard python \"ord()\" functie."
   ]
  },
  {
   "cell_type": "code",
   "execution_count": 2,
   "metadata": {
    "slideshow": {
     "slide_type": "subslide"
    }
   },
   "outputs": [
    {
     "name": "stdout",
     "output_type": "stream",
     "text": [
      "[73, 73, 73, 73, 73, 73, 73, 73, 73, 73, 73, 73, 73, 73, 73, 73, 73, 73, 73, 73, 73, 73, 73, 73, 73, 73, 73, 73, 73, 73, 73, 73, 54, 73, 66, 73, 73, 73, 73, 73, 73, 73, 73, 73, 73, 73, 73, 73, 73, 73, 73, 73, 73, 73, 73, 73, 73, 73, 71, 73, 73, 62, 73, 73, 73, 73, 73, 45, 73, 41, 56, 73]\n"
     ]
    }
   ],
   "source": [
    "#Voorbeeld fastq read:\n",
    "\n",
    "#@SRR001666.2 071112_SLXA-EAS1_s_7:5:1:801:338 length=72\n",
    "#GTTCAGGGATACGACGTTTGTATTTTAAGAATCTGAAGCAGAAGTCGATGATAATACGCGTCGTTTTATCAT\n",
    "#+SRR001666.2 071112_SLXA-EAS1_s_7:5:1:801:338 length=72\n",
    "#IIIIIIIIIIIIIIIIIIIIIIIIIIIIIIII6IBIIIIIIIIIIIIIIIIIIIIIIIGII>IIIII-I)8I\n",
    "\n",
    "quals = \"IIIIIIIIIIIIIIIIIIIIIIIIIIIIIIII6IBIIIIIIIIIIIIIIIIIIIIIIIGII>IIIII-I)8I\"\n",
    "\n",
    "print([ord(c) for c in quals])"
   ]
  },
  {
   "cell_type": "code",
   "execution_count": null,
   "metadata": {
    "slideshow": {
     "slide_type": "slide"
    }
   },
   "outputs": [],
   "source": [
    "# Om een idee te krijgen van de waarden en wat ze betekenen:\n",
    "# (Laatste colom geeft de kans dat de base correct is)\n",
    "\n",
    "10\t1 in 10\t90%\n",
    "20\t1 in 100\t99%\n",
    "30\t1 in 1000\t99.9%\n",
    "40\t1 in 10,000\t99.99%\n",
    "50\t1 in 100,000\t99.999%\n",
    "60\t1 in 1,000,000\t99.9999%"
   ]
  }
 ],
 "metadata": {
  "celltoolbar": "Slideshow",
  "kernelspec": {
   "display_name": "Python 3",
   "language": "python",
   "name": "python3"
  },
  "language_info": {
   "codemirror_mode": {
    "name": "ipython",
    "version": 3
   },
   "file_extension": ".py",
   "mimetype": "text/x-python",
   "name": "python",
   "nbconvert_exporter": "python",
   "pygments_lexer": "ipython3",
   "version": "3.7.6"
  }
 },
 "nbformat": 4,
 "nbformat_minor": 4
}
